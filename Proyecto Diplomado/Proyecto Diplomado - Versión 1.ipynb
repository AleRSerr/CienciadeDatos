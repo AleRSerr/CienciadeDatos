{
 "cells": [
  {
   "cell_type": "markdown",
   "id": "c788557f",
   "metadata": {},
   "source": [
    "## Proyección de Datos - Aeropuerto de Leipzig (DE)"
   ]
  },
  {
   "cell_type": "markdown",
   "id": "22edf715",
   "metadata": {},
   "source": [
    "### **Reporte No. 1** - Propuesta de Proyecto"
   ]
  },
  {
   "cell_type": "markdown",
   "id": "fab0515a",
   "metadata": {},
   "source": [
    "<p><strong>Asesor Principal</strong>: Prof. Campo Elías Pardo Turriago, <a>cepardot@unal.edu.co</a> <br>\n",
    "<strong>Asesor Suplente</strong>: Prof. Álvaro Mauricio Montenegro Díaz, PhD <a>ammontenegrod@unal.edu.co</a> <br>\n",
    "<strong>Autor</strong>: Alejandro Rios Serrano, <a>oarioss@unal.edu.co</a> </p>"
   ]
  },
  {
   "cell_type": "markdown",
   "id": "48f3fe8d",
   "metadata": {},
   "source": [
    "#### Introduccion"
   ]
  },
  {
   "cell_type": "markdown",
   "id": "ea1e82f9",
   "metadata": {},
   "source": [
    "la recoleccion y analisis de datos en la infraestructura permite una mejor planeación al proyectar futuras ampliaciones y mejoras en la construccion. La infraestructura instalada va copando su capacidad hasta que se hace necesaria una ampliación, nueva construccion o mejora de la capacidad. \n",
    "\n",
    "La proyección de uso en la infraestructura permite planear las ampliaciones y mejoras futuras con suficienta antelación para planear correctamente, conseguir permisos, desarrollar y ejecutar el proyecto."
   ]
  },
  {
   "cell_type": "markdown",
   "id": "330748c2",
   "metadata": {},
   "source": [
    "<img src=\"https://miro.medium.com/max/1400/1*0o44SgYfO_NgbEbqRICftw.png\" width=\"700\" height=\"700\">"
   ]
  },
  {
   "cell_type": "markdown",
   "id": "50dc375f",
   "metadata": {},
   "source": [
    "   #### Descripción del Problema"
   ]
  },
  {
   "cell_type": "markdown",
   "id": "6f4a0b79",
   "metadata": {},
   "source": [
    "El aeropuerto de Leipzig ha venido creciendo constantemente desde 1991, posicionandose como el segundo mayor aeropuerto de carga de Alemania detrás de Frankfurt [**Source**: Qualitätsbericht - Luftverkehrsteuer 04/2022](https://www-genesis.destatis.de/genesis/online?operation=abruftabelleBearbeiten&levelindex=1&levelid=1667651441718&auswahloperation=abruftabelleAuspraegungAuswaehlen&auswahlverzeichnis=ordnungsstruktur&auswahlziel=werteabruf&code=46421-0005&auswahltext=&werteabruf=starten&wertauswahl=1695&wertauswahl=1696&wertauswahl=1697&wertauswahl=1698#abreadcrumb).\n",
    "\n",
    "Durante la pandemia, cayó drásticamente el transporte de carga y especialmente pasajeros. Con análisis de datos se pretende proyectar la recuperación en el transporte de carga y pasajeros, así como las ampliaciones futuras de la capacidad instalada en el aeropuerto de Leipzig (Alemania).\n",
    "\n",
    " <img src=\"http://www.wirtschaftinsachsen.de/wp-content/uploads/2008/10/germanwings_rollbruecke-flughafen-leipzig-halle1.jpg\" width=\"700\" height=\"700\">"
   ]
  },
  {
   "cell_type": "markdown",
   "id": "12d1f48d",
   "metadata": {},
   "source": [
    "   #### Procesamiento ETL"
   ]
  },
  {
   "cell_type": "markdown",
   "id": "884f5a21",
   "metadata": {},
   "source": [
    "Se cuenta con los datos de carga y pasajeros mes a mes del aeropuerto de Leipzig entre 1991-2022 *(con fecha de corte a octubre 2022)*. A partir de los datos se pretende proyectar la recuperación del trafico de carga y pasajeros luego de la pandemia y la fecha estimada de colmación de la capacidad instalada. Se introduce Frankfurt como aeropuerto de control en los datos."
   ]
  },
  {
   "cell_type": "markdown",
   "id": "7e5948c9",
   "metadata": {},
   "source": [
    "| **Aeropuerto:** | Frankfurt (FRA) | Leipzig (LEJ) |\n",
    "| :---- | :----------- | :------ |\n",
    "| **Datos** | pasajeros, carga | pasajeros, carga |\n",
    "| **Frecuencia** | mensual | mensual |\n"
   ]
  },
  {
   "cell_type": "markdown",
   "id": "06df5426",
   "metadata": {},
   "source": [
    "**Cantidad de Datos:** 370 Datos (meses entre 1991-2002)<br>\n",
    "**Cantidad de Variables:** 2"
   ]
  },
  {
   "cell_type": "markdown",
   "id": "5fc34e9b",
   "metadata": {},
   "source": [
    "Se extraeran los datos (pasajeros y carga) de los aeropuertos FRA y LEJ de las tablas (estas contienen la totalidad de los aeropuertos en Alemania). Se harán los analisis de los datos y se hará la proxección de crecimiento para los siguientes años hasta encontrar la fecha estimada de recuperación en el transporte y la fecha estimada de colmación de la capacidad."
   ]
  },
  {
   "cell_type": "markdown",
   "id": "ca5f6f28",
   "metadata": {},
   "source": [
    "   #### Exploración de los datos"
   ]
  },
  {
   "cell_type": "markdown",
   "id": "2bfd734f",
   "metadata": {},
   "source": [
    "La exploración de datos se realizara con estadisticas y graficas univariadas. Se tomara en cuenta la totalidad de los datos (370 datos - meses entre 1991-2022) y el desarrollo de carga y pasajeros (2 variables) en los aeropuertos de Leipzig (LEJ) y Frankfurt (FRA). "
   ]
  },
  {
   "cell_type": "markdown",
   "id": "b611bc6e",
   "metadata": {},
   "source": [
    "   #### Técnicas de modelación propuestas*"
   ]
  },
  {
   "cell_type": "markdown",
   "id": "f14e3624",
   "metadata": {},
   "source": [
    "Se propone hacer un modelado en redes neuronales. \n",
    "\n",
    "**todavia en desarrollo*"
   ]
  },
  {
   "cell_type": "markdown",
   "id": "18750cd0",
   "metadata": {},
   "source": [
    "   #### Conocimientos requeridos para el desarrollo del proyecto"
   ]
  },
  {
   "cell_type": "markdown",
   "id": "ae70a4da",
   "metadata": {},
   "source": [
    "Se proponen los siguientes programas para el desarollo del proyecto:\n",
    "\n",
    "- Python : nivel basico\n",
    "- Modelos supervisados: predictivos\n"
   ]
  },
  {
   "cell_type": "markdown",
   "id": "d3e7e8b9",
   "metadata": {},
   "source": [
    "   #### Resultados esperados"
   ]
  },
  {
   "cell_type": "markdown",
   "id": "69000be0",
   "metadata": {},
   "source": [
    "Se espera que con el modelo de predicción se pueda proyectar una fecha estimada para la recuperacion del flujo de carga y de pasajeros a como estaba antes de la pandemia así como una fecha estimada para la ampliación de la capacitdad instalada del aeropuerto (crecimiento proyectado) con una fecha de corte aprox. 20 años antes* para la toma de decisión.\n",
    "\n",
    "*el trasfondo de la fecha de corte para la decisión es que los proyectos en Alemania se demoran unos 15-20 años entre la toma de la decisión y la entrega del proyecto, con lo que se contempla esta ventana de tiempo como optimal para la toma de decisión."
   ]
  },
  {
   "cell_type": "markdown",
   "id": "60f5a6c0",
   "metadata": {},
   "source": [
    "   #### Tiempo de desarrollo esperado"
   ]
  },
  {
   "cell_type": "markdown",
   "id": "67739452",
   "metadata": {},
   "source": [
    "cuatro semanas\n",
    "- **fecha estimada inicio:** 05 Noviembre 2022\n",
    "- **fecha estimada finalización:** 10 diciembre 2022"
   ]
  },
  {
   "cell_type": "markdown",
   "id": "83a2ceb5",
   "metadata": {},
   "source": [
    "##### Fuentes"
   ]
  },
  {
   "cell_type": "markdown",
   "id": "af78fca5",
   "metadata": {},
   "source": [
    "- [Desarrollo LEJ (hasta 2014)](https://web.archive.org/web/20150119194227/http://www.leipzig-halle-airport.de/unternehmen/ueber-uns/zahlen-und-fakten/entwicklung-158.html)\n",
    "- [Capacidad Instalada LEJ](https://www.leipzig.de/wirtschaft-und-wissenschaft/investieren-in-leipzig/infrastruktur/verkehrsinfrastruktur/flughafen-leipzighalle/)\n",
    "- [Datos](https://www.adv.aero/service/downloadbibliothek/)\n",
    "- [Reportes](https://branchenreport.bdl.aero/)"
   ]
  }
 ],
 "metadata": {
  "kernelspec": {
   "display_name": "Python 3 (ipykernel)",
   "language": "python",
   "name": "python3"
  },
  "language_info": {
   "codemirror_mode": {
    "name": "ipython",
    "version": 3
   },
   "file_extension": ".py",
   "mimetype": "text/x-python",
   "name": "python",
   "nbconvert_exporter": "python",
   "pygments_lexer": "ipython3",
   "version": "3.10.6"
  }
 },
 "nbformat": 4,
 "nbformat_minor": 5
}
